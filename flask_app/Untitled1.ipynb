{
 "cells": [
  {
   "cell_type": "code",
   "execution_count": 12,
   "metadata": {
    "collapsed": false
   },
   "outputs": [],
   "source": [
    "import requests\n",
    "get_response = requests.get(url='http://text-machine.cs.uml.edu/cliner/demo/cgi-bin/cliner_demo.cgi/')\n",
    "post_data = {'textarea':'The patient has a hurt shoulder'}\n",
    "# POST some form-encoded data:\n",
    "post_response = requests.post(url='http://text-machine.cs.uml.edu/cliner/demo/cgi-bin/cliner_demo.cgi/', data=post_data)"
   ]
  },
  {
   "cell_type": "code",
   "execution_count": 15,
   "metadata": {
    "collapsed": false
   },
   "outputs": [
    {
     "name": "stdout",
     "output_type": "stream",
     "text": [
      "<bound method Response.iter_lines of <Response [400]>>\n"
     ]
    }
   ],
   "source": [
    "print(post_response.)"
   ]
  },
  {
   "cell_type": "code",
   "execution_count": 16,
   "metadata": {
    "collapsed": false
   },
   "outputs": [
    {
     "name": "stdout",
     "output_type": "stream",
     "text": [
      "Searching for mechanize\n",
      "Reading https://pypi.python.org/simple/mechanize/\n",
      "Downloading https://pypi.python.org/packages/4c/4d/11fbb28cb522603b47aa2b5566a41237f03fc66c94a77f915fd17eaaecc8/mechanize-0.3.1.tar.gz#md5=a58abe7f7a30bed958384c1f3ba2234d\n",
      "Best match: mechanize 0.3.1\n",
      "Processing mechanize-0.3.1.tar.gz\n",
      "Writing /var/folders/hb/8g5bcd9j7j9chnblfpdg5d000000gn/T/easy_install-19ugruc7/mechanize-0.3.1/setup.cfg\n",
      "Running mechanize-0.3.1/setup.py -q bdist_egg --dist-dir /var/folders/hb/8g5bcd9j7j9chnblfpdg5d000000gn/T/easy_install-19ugruc7/mechanize-0.3.1/egg-dist-tmp-c0s54009\n",
      "error: Setup script exited with mechanize only works on python 2.x\n"
     ]
    }
   ],
   "source": [
    "!python --versi"
   ]
  },
  {
   "cell_type": "code",
   "execution_count": null,
   "metadata": {
    "collapsed": true
   },
   "outputs": [],
   "source": []
  }
 ],
 "metadata": {
  "kernelspec": {
   "display_name": "Python 2",
   "language": "python",
   "name": "python2"
  },
  "language_info": {
   "codemirror_mode": {
    "name": "ipython",
    "version": 2
   },
   "file_extension": ".py",
   "mimetype": "text/x-python",
   "name": "python",
   "nbconvert_exporter": "python",
   "pygments_lexer": "ipython2",
   "version": "2.7.9"
  }
 },
 "nbformat": 4,
 "nbformat_minor": 2
}
