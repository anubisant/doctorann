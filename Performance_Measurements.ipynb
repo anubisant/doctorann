{
 "cells": [
  {
   "cell_type": "code",
   "execution_count": 8,
   "metadata": {
    "collapsed": true
   },
   "outputs": [],
   "source": [
    "import numpy as np\n",
    "actual = np.array([[1,2,3],[5],[2,3,4,5,6],[8,9],[50,55,80],[100]])\n",
    "preds = np.array([[1],[3],[2],[10],[5],[100]])"
   ]
  },
  {
   "cell_type": "code",
   "execution_count": 10,
   "metadata": {
    "collapsed": false
   },
   "outputs": [
    {
     "name": "stdout",
     "output_type": "stream",
     "text": [
      "0.5\n"
     ]
    }
   ],
   "source": [
    "def accuracy(preds,actual): \n",
    "    acc = 0\n",
    "    for i in range(len(preds)): \n",
    "        if preds[i] in actual[i]: \n",
    "            acc = acc + 1\n",
    "    return float(acc)/len(preds)\n",
    "acc = accuracy(preds,actual)\n",
    "print(acc)"
   ]
  },
  {
   "cell_type": "code",
   "execution_count": 17,
   "metadata": {
    "collapsed": false
   },
   "outputs": [
    {
     "ename": "TypeError",
     "evalue": "list indices must be integers or slices, not tuple",
     "output_type": "error",
     "traceback": [
      "\u001b[0;31m---------------------------------------------------------------------------\u001b[0m",
      "\u001b[0;31mTypeError\u001b[0m                                 Traceback (most recent call last)",
      "\u001b[0;32m<ipython-input-17-937c40dbfe09>\u001b[0m in \u001b[0;36m<module>\u001b[0;34m()\u001b[0m\n\u001b[1;32m      2\u001b[0m       924, 403])\n\u001b[1;32m      3\u001b[0m \u001b[0;34m\u001b[0m\u001b[0m\n\u001b[0;32m----> 4\u001b[0;31m actual = np.array([[0,26][  0,79]\n\u001b[0m\u001b[1;32m      5\u001b[0m \u001b[0;34m[\u001b[0m  \u001b[0;36m0\u001b[0m  \u001b[0;34m,\u001b[0m\u001b[0;36m84\u001b[0m\u001b[0;34m]\u001b[0m\u001b[0;34m\u001b[0m\u001b[0m\n\u001b[1;32m      6\u001b[0m \u001b[0;34m[\u001b[0m  \u001b[0;36m0\u001b[0m  \u001b[0;34m,\u001b[0m\u001b[0;36m89\u001b[0m\u001b[0;34m]\u001b[0m\u001b[0;34m\u001b[0m\u001b[0m\n",
      "\u001b[0;31mTypeError\u001b[0m: list indices must be integers or slices, not tuple"
     ]
    }
   ],
   "source": [
    "preds = np.array([ 89, 702, 307, 590,  93, 851, 782, 305, 349, 878, 913,  84, 663,\n",
    "      924, 403])\n",
    "\n",
    "actual = np.array([[0,26],[  0,79],\n",
    "[  0  ,84],\n",
    "[  0  ,89],\n",
    "[  0 ,294],\n",
    "[  0 ,307],\n",
    "[  0 ,340]\n",
    "[  0 ,394]\n",
    "[  0 ,565]\n",
    "[  0 ,617]\n",
    "[  0 ,666]\n",
    "[  0 ,702]\n",
    "[  0 ,851]\n",
    "[  0 ,913]\n",
    "[  0 ,924]])"
   ]
  },
  {
   "cell_type": "code",
   "execution_count": null,
   "metadata": {
    "collapsed": true
   },
   "outputs": [],
   "source": []
  }
 ],
 "metadata": {
  "kernelspec": {
   "display_name": "Python 3",
   "language": "python",
   "name": "python3"
  },
  "language_info": {
   "codemirror_mode": {
    "name": "ipython",
    "version": 3
   },
   "file_extension": ".py",
   "mimetype": "text/x-python",
   "name": "python",
   "nbconvert_exporter": "python",
   "pygments_lexer": "ipython3",
   "version": "3.5.2"
  }
 },
 "nbformat": 4,
 "nbformat_minor": 2
}
